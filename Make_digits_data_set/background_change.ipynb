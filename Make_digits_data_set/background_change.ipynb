{
 "cells": [
  {
   "cell_type": "code",
   "execution_count": 2,
   "id": "e5cf5fd6",
   "metadata": {},
   "outputs": [
    {
     "name": "stdout",
     "output_type": "stream",
     "text": [
      "✅ Inverted 100 images and saved in 'inverted'\n"
     ]
    }
   ],
   "source": [
    "import cv2\n",
    "import os\n",
    "\n",
    "# Input and output folders\n",
    "input_folder = \"resized\"         # original images\n",
    "output_folder = \"inverted\"       # output folder\n",
    "os.makedirs(output_folder, exist_ok=True)\n",
    "\n",
    "# Get all images and sort sequentially\n",
    "files = [f for f in os.listdir(input_folder) if f.endswith((\".jpg\", \".png\"))]\n",
    "files = sorted(files, key=lambda x: int(os.path.splitext(x)[0]))\n",
    "\n",
    "# Loop through images\n",
    "for idx, file in enumerate(files, start=1):\n",
    "    img_path = os.path.join(input_folder, file)\n",
    "    img = cv2.imread(img_path)\n",
    "\n",
    "    if img is None:\n",
    "        print(f\"⚠️ Skipped {file} (not an image)\")\n",
    "        continue\n",
    "\n",
    "    # Invert pixel values (reverse 0 ↔ 255)\n",
    "    inverted = 255 - img\n",
    "\n",
    "    # Save sequentially\n",
    "    save_path = os.path.join(output_folder, f\"{idx}.jpg\")\n",
    "    cv2.imwrite(save_path, inverted)\n",
    "\n",
    "print(f\"✅ Inverted {len(files)} images and saved in '{output_folder}'\")\n"
   ]
  }
 ],
 "metadata": {
  "kernelspec": {
   "display_name": "Python 3",
   "language": "python",
   "name": "python3"
  },
  "language_info": {
   "codemirror_mode": {
    "name": "ipython",
    "version": 3
   },
   "file_extension": ".py",
   "mimetype": "text/x-python",
   "name": "python",
   "nbconvert_exporter": "python",
   "pygments_lexer": "ipython3",
   "version": "3.10.12"
  }
 },
 "nbformat": 4,
 "nbformat_minor": 5
}
