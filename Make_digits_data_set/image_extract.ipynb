{
 "cells": [
  {
   "cell_type": "code",
   "execution_count": null,
   "id": "13297b34",
   "metadata": {},
   "outputs": [
    {
     "name": "stdout",
     "output_type": "stream",
     "text": [
      "✅ Extracted 16 images into 'extracted' folder\n"
     ]
    }
   ],
   "source": [
    "import cv2\n",
    "import os\n",
    "\n",
    "# for resize image with perfect grid view\n",
    "# https://imageresizer.com/crop-image/editor\n",
    "# Load your image\n",
    "img = cv2.imread(\"image/10.jpg\")\n",
    "\n",
    "# Get image height and width\n",
    "h, w, _ = img.shape\n",
    "\n",
    "# Number of rows and cols\n",
    "rows, cols = 3, 7\n",
    "\n",
    "# Calculate size of each cell\n",
    "cell_h, cell_w = h // rows, w // cols\n",
    "\n",
    "# Create folder\n",
    "os.makedirs(\"extracted\", exist_ok=True)\n",
    "\n",
    "# Loop and cro\n",
    "count = 1\n",
    "for i in range(rows):\n",
    "    for j in range(cols):\n",
    "        # Define crop region\n",
    "        y1, y2 = i * cell_h, (i + 1) * cell_h\n",
    "        x1, x2 = j * cell_w, (j + 1) * cell_w\n",
    "        crop = img[y1:y2, x1:x2]\n",
    "        \n",
    "        # Save cropped image\n",
    "        cv2.imwrite(f\"extracted/{count+94}.png\", crop)\n",
    "        count += 1\n",
    "\n",
    "print(\"✅ Extracted 16 images into 'extracted' folder\")\n"
   ]
  }
 ],
 "metadata": {
  "kernelspec": {
   "display_name": "Python 3",
   "language": "python",
   "name": "python3"
  },
  "language_info": {
   "codemirror_mode": {
    "name": "ipython",
    "version": 3
   },
   "file_extension": ".py",
   "mimetype": "text/x-python",
   "name": "python",
   "nbconvert_exporter": "python",
   "pygments_lexer": "ipython3",
   "version": "3.10.12"
  }
 },
 "nbformat": 4,
 "nbformat_minor": 5
}
