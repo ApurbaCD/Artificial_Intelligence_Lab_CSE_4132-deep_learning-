{
 "cells": [
  {
   "cell_type": "code",
   "execution_count": 7,
   "id": "5b073ea2",
   "metadata": {},
   "outputs": [
    {
     "name": "stdout",
     "output_type": "stream",
     "text": [
      "✅ Resized 100 images to 28x28 and saved sequentially in 'resized'\n"
     ]
    }
   ],
   "source": [
    "import cv2\n",
    "import os\n",
    "\n",
    "# Input and output folder\n",
    "input_folder = \"jpg_images\"      # folder where your 100 images are stored\n",
    "output_folder = \"resized\"       # folder for resized images\n",
    "os.makedirs(output_folder, exist_ok=True)\n",
    "\n",
    "# Get all image files and sort them numerically\n",
    "files = [f for f in os.listdir(input_folder) if f.endswith((\".jpg\", \".png\"))]\n",
    "\n",
    "# Sort numerically instead of alphabetically\n",
    "files = sorted(files, key=lambda x: int(os.path.splitext(x)[0]))\n",
    "\n",
    "# Loop through and resize\n",
    "for idx, file in enumerate(files[:100], start=1):\n",
    "    img_path = os.path.join(input_folder, file)\n",
    "    img = cv2.imread(img_path)\n",
    "\n",
    "    if img is None:\n",
    "        print(f\"⚠️ Skipped {file} (not an image)\")\n",
    "        continue\n",
    "\n",
    "    # Resize to 28x28\n",
    "    resized = cv2.resize(img, (28, 28), interpolation=cv2.INTER_AREA)\n",
    "\n",
    "    # Save with new sequential name\n",
    "    save_path = os.path.join(output_folder, f\"{idx}.jpg\")\n",
    "    cv2.imwrite(save_path, resized)\n",
    "\n",
    "print(f\"✅ Resized {len(files[:100])} images to 28x28 and saved sequentially in '{output_folder}'\")\n"
   ]
  }
 ],
 "metadata": {
  "kernelspec": {
   "display_name": "Python 3",
   "language": "python",
   "name": "python3"
  },
  "language_info": {
   "codemirror_mode": {
    "name": "ipython",
    "version": 3
   },
   "file_extension": ".py",
   "mimetype": "text/x-python",
   "name": "python",
   "nbconvert_exporter": "python",
   "pygments_lexer": "ipython3",
   "version": "3.10.12"
  }
 },
 "nbformat": 4,
 "nbformat_minor": 5
}
